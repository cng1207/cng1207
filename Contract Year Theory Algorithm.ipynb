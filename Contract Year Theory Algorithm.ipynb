{
 "cells": [
  {
   "cell_type": "code",
   "execution_count": 1,
   "id": "f38f1f08",
   "metadata": {},
   "outputs": [
    {
     "name": "stdout",
     "output_type": "stream",
     "text": [
      "Collecting package metadata (current_repodata.json): done\n",
      "Solving environment: done\n",
      "\n",
      "# All requested packages already installed.\n",
      "\n",
      "\n",
      "Note: you may need to restart the kernel to use updated packages.\n"
     ]
    }
   ],
   "source": [
    "conda install -c https://conda.anaconda.org/akode xgboost"
   ]
  },
  {
   "cell_type": "code",
   "execution_count": 2,
   "id": "68f3ef47",
   "metadata": {},
   "outputs": [
    {
     "name": "stdout",
     "output_type": "stream",
     "text": [
      "Requirement already satisfied: speedml in /opt/anaconda3/lib/python3.8/site-packages (0.9.3)\n",
      "Requirement already satisfied: numpy in /opt/anaconda3/lib/python3.8/site-packages (from speedml) (1.20.1)\n",
      "Requirement already satisfied: seaborn in /opt/anaconda3/lib/python3.8/site-packages (from speedml) (0.11.1)\n",
      "Requirement already satisfied: future in /opt/anaconda3/lib/python3.8/site-packages (from speedml) (0.18.2)\n",
      "Requirement already satisfied: pandas in /opt/anaconda3/lib/python3.8/site-packages (from speedml) (1.2.4)\n",
      "Requirement already satisfied: sklearn in /opt/anaconda3/lib/python3.8/site-packages (from speedml) (0.0)\n",
      "Requirement already satisfied: xgboost in /opt/anaconda3/lib/python3.8/site-packages (from speedml) (1.5.1)\n",
      "Requirement already satisfied: matplotlib in /opt/anaconda3/lib/python3.8/site-packages (from speedml) (3.3.4)\n",
      "Requirement already satisfied: pillow>=6.2.0 in /opt/anaconda3/lib/python3.8/site-packages (from matplotlib->speedml) (8.2.0)\n",
      "Requirement already satisfied: python-dateutil>=2.1 in /opt/anaconda3/lib/python3.8/site-packages (from matplotlib->speedml) (2.8.1)\n",
      "Requirement already satisfied: cycler>=0.10 in /opt/anaconda3/lib/python3.8/site-packages (from matplotlib->speedml) (0.10.0)\n",
      "Requirement already satisfied: kiwisolver>=1.0.1 in /opt/anaconda3/lib/python3.8/site-packages (from matplotlib->speedml) (1.3.1)\n",
      "Requirement already satisfied: pyparsing!=2.0.4,!=2.1.2,!=2.1.6,>=2.0.3 in /opt/anaconda3/lib/python3.8/site-packages (from matplotlib->speedml) (2.4.7)\n",
      "Requirement already satisfied: six in /opt/anaconda3/lib/python3.8/site-packages (from cycler>=0.10->matplotlib->speedml) (1.15.0)\n",
      "Requirement already satisfied: pytz>=2017.3 in /opt/anaconda3/lib/python3.8/site-packages (from pandas->speedml) (2021.1)\n",
      "Requirement already satisfied: scipy>=1.0 in /opt/anaconda3/lib/python3.8/site-packages (from seaborn->speedml) (1.6.2)\n",
      "Requirement already satisfied: scikit-learn in /opt/anaconda3/lib/python3.8/site-packages (from sklearn->speedml) (0.24.1)\n",
      "Requirement already satisfied: joblib>=0.11 in /opt/anaconda3/lib/python3.8/site-packages (from scikit-learn->sklearn->speedml) (1.0.1)\n",
      "Requirement already satisfied: threadpoolctl>=2.0.0 in /opt/anaconda3/lib/python3.8/site-packages (from scikit-learn->sklearn->speedml) (2.1.0)\n",
      "Note: you may need to restart the kernel to use updated packages.\n"
     ]
    }
   ],
   "source": [
    "pip install speedml\n"
   ]
  },
  {
   "cell_type": "code",
   "execution_count": 21,
   "id": "e87adfa1",
   "metadata": {},
   "outputs": [
    {
     "data": {
      "text/plain": [
       "<bound method NDFrame.describe of                Player  Year Team  GP   W   L   MIN  DIST.†FEET  DIST.†MILES  \\\n",
       "0        Aaron Brooks  2017  IND  64  36  28  13.6      4953.5         0.94   \n",
       "1        Aaron Gordon  2017  ORL  80  29  51  28.7     11234.2         2.13   \n",
       "2        Aaron Gordon  2018  ORL  58  19  39  32.9     12792.0         2.42   \n",
       "3        Aaron Gordon  2019  ORL  76  38  38  33.8     13509.5         2.56   \n",
       "4        Aaron Gordon  2020  ORL  58  28  30  33.0     12995.1         2.46   \n",
       "...               ...   ...  ...  ..  ..  ..   ...         ...          ...   \n",
       "1710     Zhaire Smith  2019  PHI   6   2   4  18.4      7941.8         1.50   \n",
       "1711     Zhaire Smith  2020  PHI   7   3   4   4.6      1945.7         0.37   \n",
       "1712          Zhou Qi  2018  HOU  18  14   4   6.9      2525.6         0.48   \n",
       "1713          Zhou Qi  2019  HOU   1   0   1   0.9       385.0         0.07   \n",
       "1714  Zion Williamson  2020  NOP  18  10   8  29.4     12005.2         2.27   \n",
       "\n",
       "      DIST.†MILES†OFF  DIST.†MILES†DEF  AVG†SPEED  AVG†SPEED†OFF  \\\n",
       "0                0.51             0.43       4.14           4.35   \n",
       "1                1.14             0.99       4.45           4.85   \n",
       "2                1.35             1.07       4.46           5.05   \n",
       "3                1.44             1.12       4.28           4.75   \n",
       "4                1.36             1.10       4.20           4.65   \n",
       "...               ...              ...        ...            ...   \n",
       "1710             0.84             0.67       4.58           5.06   \n",
       "1711             0.19             0.18       4.27           4.20   \n",
       "1712             0.26             0.22       4.10           4.20   \n",
       "1713             0.03             0.04       5.01           0.00   \n",
       "1714             1.21             1.07       4.36           4.85   \n",
       "\n",
       "      AVG†SPEED†DEF   Rk Salary Current Salary Next  contract_year  \n",
       "0              3.92  274       $2700000         NaN              1  \n",
       "1              4.06  210       $4351320    $5504420              0  \n",
       "2              3.88  188       $5504420         NaN              1  \n",
       "3              3.79   40      $21590909   $19863636              0  \n",
       "4              3.76   53      $19863636   $18136364              0  \n",
       "...             ...  ...            ...         ...            ...  \n",
       "1710           4.09  285       $2611800    $3058800              0  \n",
       "1711           4.34  264       $3058800    $3204600              0  \n",
       "1712           3.99  455        $815615    $1378242              0  \n",
       "1713           0.00  437       $1378242    $1618520              0  \n",
       "1714           3.91  127       $9757440   $10245480              0  \n",
       "\n",
       "[1715 rows x 18 columns]>"
      ]
     },
     "execution_count": 21,
     "metadata": {},
     "output_type": "execute_result"
    }
   ],
   "source": [
    "import pandas as pd\n",
    "from pandas import DataFrame, read_csv\n",
    "from speedml import Speedml\n",
    "from sklearn.linear_model import LinearRegression\n",
    "from sklearn.model_selection import train_test_split\n",
    "from sklearn import model_selection\n",
    "from sklearn.metrics import accuracy_score\n",
    "from sklearn.linear_model import LogisticRegression\n",
    "from sklearn.tree import DecisionTreeClassifier\n",
    "from sklearn.neighbors import KNeighborsClassifier\n",
    "from sklearn.discriminant_analysis import LinearDiscriminantAnalysis\n",
    "from sklearn.naive_bayes import GaussianNB\n",
    "from sklearn.svm import SVC\n",
    "playerdata = pd.read_csv(\"Contract Year data.csv\", delimiter = \",\")\n",
    "playerdata = playerdata.iloc[: , 1:]\n",
    "mldata = playerdata\n",
    "yvar = playerdata['contract_year']\n",
    "modelvariables = ['GP','L','MIN','DIST.†MILES†OFF','DIST.†MILES†DEF','AVG†SPEED','Rk','Salary Current','W','contract_year']\n",
    "playerdata.describe"
   ]
  },
  {
   "cell_type": "code",
   "execution_count": 4,
   "id": "2877fc25",
   "metadata": {},
   "outputs": [
    {
     "data": {
      "text/html": [
       "<div>\n",
       "<style scoped>\n",
       "    .dataframe tbody tr th:only-of-type {\n",
       "        vertical-align: middle;\n",
       "    }\n",
       "\n",
       "    .dataframe tbody tr th {\n",
       "        vertical-align: top;\n",
       "    }\n",
       "\n",
       "    .dataframe thead th {\n",
       "        text-align: right;\n",
       "    }\n",
       "</style>\n",
       "<table border=\"1\" class=\"dataframe\">\n",
       "  <thead>\n",
       "    <tr style=\"text-align: right;\">\n",
       "      <th></th>\n",
       "      <th>Player</th>\n",
       "      <th>Year</th>\n",
       "      <th>Team</th>\n",
       "      <th>GP</th>\n",
       "      <th>W</th>\n",
       "      <th>L</th>\n",
       "      <th>MIN</th>\n",
       "      <th>DIST.†FEET</th>\n",
       "      <th>DIST.†MILES</th>\n",
       "      <th>DIST.†MILES†OFF</th>\n",
       "      <th>DIST.†MILES†DEF</th>\n",
       "      <th>AVG†SPEED</th>\n",
       "      <th>AVG†SPEED†OFF</th>\n",
       "      <th>AVG†SPEED†DEF</th>\n",
       "      <th>Rk</th>\n",
       "      <th>Salary Current</th>\n",
       "      <th>Salary Next</th>\n",
       "      <th>contract_year</th>\n",
       "    </tr>\n",
       "  </thead>\n",
       "  <tbody>\n",
       "    <tr>\n",
       "      <th>0</th>\n",
       "      <td>Aaron Brooks</td>\n",
       "      <td>2017</td>\n",
       "      <td>IND</td>\n",
       "      <td>64</td>\n",
       "      <td>36</td>\n",
       "      <td>28</td>\n",
       "      <td>13.6</td>\n",
       "      <td>4953.5</td>\n",
       "      <td>0.94</td>\n",
       "      <td>0.51</td>\n",
       "      <td>0.43</td>\n",
       "      <td>4.14</td>\n",
       "      <td>4.35</td>\n",
       "      <td>3.92</td>\n",
       "      <td>274</td>\n",
       "      <td>$2700000</td>\n",
       "      <td>NaN</td>\n",
       "      <td>1</td>\n",
       "    </tr>\n",
       "    <tr>\n",
       "      <th>1</th>\n",
       "      <td>Aaron Gordon</td>\n",
       "      <td>2017</td>\n",
       "      <td>ORL</td>\n",
       "      <td>80</td>\n",
       "      <td>29</td>\n",
       "      <td>51</td>\n",
       "      <td>28.7</td>\n",
       "      <td>11234.2</td>\n",
       "      <td>2.13</td>\n",
       "      <td>1.14</td>\n",
       "      <td>0.99</td>\n",
       "      <td>4.45</td>\n",
       "      <td>4.85</td>\n",
       "      <td>4.06</td>\n",
       "      <td>210</td>\n",
       "      <td>$4351320</td>\n",
       "      <td>$5504420</td>\n",
       "      <td>0</td>\n",
       "    </tr>\n",
       "    <tr>\n",
       "      <th>2</th>\n",
       "      <td>Aaron Gordon</td>\n",
       "      <td>2018</td>\n",
       "      <td>ORL</td>\n",
       "      <td>58</td>\n",
       "      <td>19</td>\n",
       "      <td>39</td>\n",
       "      <td>32.9</td>\n",
       "      <td>12792.0</td>\n",
       "      <td>2.42</td>\n",
       "      <td>1.35</td>\n",
       "      <td>1.07</td>\n",
       "      <td>4.46</td>\n",
       "      <td>5.05</td>\n",
       "      <td>3.88</td>\n",
       "      <td>188</td>\n",
       "      <td>$5504420</td>\n",
       "      <td>NaN</td>\n",
       "      <td>1</td>\n",
       "    </tr>\n",
       "    <tr>\n",
       "      <th>3</th>\n",
       "      <td>Aaron Gordon</td>\n",
       "      <td>2019</td>\n",
       "      <td>ORL</td>\n",
       "      <td>76</td>\n",
       "      <td>38</td>\n",
       "      <td>38</td>\n",
       "      <td>33.8</td>\n",
       "      <td>13509.5</td>\n",
       "      <td>2.56</td>\n",
       "      <td>1.44</td>\n",
       "      <td>1.12</td>\n",
       "      <td>4.28</td>\n",
       "      <td>4.75</td>\n",
       "      <td>3.79</td>\n",
       "      <td>40</td>\n",
       "      <td>$21590909</td>\n",
       "      <td>$19863636</td>\n",
       "      <td>0</td>\n",
       "    </tr>\n",
       "    <tr>\n",
       "      <th>4</th>\n",
       "      <td>Aaron Gordon</td>\n",
       "      <td>2020</td>\n",
       "      <td>ORL</td>\n",
       "      <td>58</td>\n",
       "      <td>28</td>\n",
       "      <td>30</td>\n",
       "      <td>33.0</td>\n",
       "      <td>12995.1</td>\n",
       "      <td>2.46</td>\n",
       "      <td>1.36</td>\n",
       "      <td>1.10</td>\n",
       "      <td>4.20</td>\n",
       "      <td>4.65</td>\n",
       "      <td>3.76</td>\n",
       "      <td>53</td>\n",
       "      <td>$19863636</td>\n",
       "      <td>$18136364</td>\n",
       "      <td>0</td>\n",
       "    </tr>\n",
       "    <tr>\n",
       "      <th>...</th>\n",
       "      <td>...</td>\n",
       "      <td>...</td>\n",
       "      <td>...</td>\n",
       "      <td>...</td>\n",
       "      <td>...</td>\n",
       "      <td>...</td>\n",
       "      <td>...</td>\n",
       "      <td>...</td>\n",
       "      <td>...</td>\n",
       "      <td>...</td>\n",
       "      <td>...</td>\n",
       "      <td>...</td>\n",
       "      <td>...</td>\n",
       "      <td>...</td>\n",
       "      <td>...</td>\n",
       "      <td>...</td>\n",
       "      <td>...</td>\n",
       "      <td>...</td>\n",
       "    </tr>\n",
       "    <tr>\n",
       "      <th>1710</th>\n",
       "      <td>Zhaire Smith</td>\n",
       "      <td>2019</td>\n",
       "      <td>PHI</td>\n",
       "      <td>6</td>\n",
       "      <td>2</td>\n",
       "      <td>4</td>\n",
       "      <td>18.4</td>\n",
       "      <td>7941.8</td>\n",
       "      <td>1.50</td>\n",
       "      <td>0.84</td>\n",
       "      <td>0.67</td>\n",
       "      <td>4.58</td>\n",
       "      <td>5.06</td>\n",
       "      <td>4.09</td>\n",
       "      <td>285</td>\n",
       "      <td>$2611800</td>\n",
       "      <td>$3058800</td>\n",
       "      <td>0</td>\n",
       "    </tr>\n",
       "    <tr>\n",
       "      <th>1711</th>\n",
       "      <td>Zhaire Smith</td>\n",
       "      <td>2020</td>\n",
       "      <td>PHI</td>\n",
       "      <td>7</td>\n",
       "      <td>3</td>\n",
       "      <td>4</td>\n",
       "      <td>4.6</td>\n",
       "      <td>1945.7</td>\n",
       "      <td>0.37</td>\n",
       "      <td>0.19</td>\n",
       "      <td>0.18</td>\n",
       "      <td>4.27</td>\n",
       "      <td>4.20</td>\n",
       "      <td>4.34</td>\n",
       "      <td>264</td>\n",
       "      <td>$3058800</td>\n",
       "      <td>$3204600</td>\n",
       "      <td>0</td>\n",
       "    </tr>\n",
       "    <tr>\n",
       "      <th>1712</th>\n",
       "      <td>Zhou Qi</td>\n",
       "      <td>2018</td>\n",
       "      <td>HOU</td>\n",
       "      <td>18</td>\n",
       "      <td>14</td>\n",
       "      <td>4</td>\n",
       "      <td>6.9</td>\n",
       "      <td>2525.6</td>\n",
       "      <td>0.48</td>\n",
       "      <td>0.26</td>\n",
       "      <td>0.22</td>\n",
       "      <td>4.10</td>\n",
       "      <td>4.20</td>\n",
       "      <td>3.99</td>\n",
       "      <td>455</td>\n",
       "      <td>$815615</td>\n",
       "      <td>$1378242</td>\n",
       "      <td>0</td>\n",
       "    </tr>\n",
       "    <tr>\n",
       "      <th>1713</th>\n",
       "      <td>Zhou Qi</td>\n",
       "      <td>2019</td>\n",
       "      <td>HOU</td>\n",
       "      <td>1</td>\n",
       "      <td>0</td>\n",
       "      <td>1</td>\n",
       "      <td>0.9</td>\n",
       "      <td>385.0</td>\n",
       "      <td>0.07</td>\n",
       "      <td>0.03</td>\n",
       "      <td>0.04</td>\n",
       "      <td>5.01</td>\n",
       "      <td>0.00</td>\n",
       "      <td>0.00</td>\n",
       "      <td>437</td>\n",
       "      <td>$1378242</td>\n",
       "      <td>$1618520</td>\n",
       "      <td>0</td>\n",
       "    </tr>\n",
       "    <tr>\n",
       "      <th>1714</th>\n",
       "      <td>Zion Williamson</td>\n",
       "      <td>2020</td>\n",
       "      <td>NOP</td>\n",
       "      <td>18</td>\n",
       "      <td>10</td>\n",
       "      <td>8</td>\n",
       "      <td>29.4</td>\n",
       "      <td>12005.2</td>\n",
       "      <td>2.27</td>\n",
       "      <td>1.21</td>\n",
       "      <td>1.07</td>\n",
       "      <td>4.36</td>\n",
       "      <td>4.85</td>\n",
       "      <td>3.91</td>\n",
       "      <td>127</td>\n",
       "      <td>$9757440</td>\n",
       "      <td>$10245480</td>\n",
       "      <td>0</td>\n",
       "    </tr>\n",
       "  </tbody>\n",
       "</table>\n",
       "<p>1715 rows × 18 columns</p>\n",
       "</div>"
      ],
      "text/plain": [
       "               Player  Year Team  GP   W   L   MIN  DIST.†FEET  DIST.†MILES  \\\n",
       "0        Aaron Brooks  2017  IND  64  36  28  13.6      4953.5         0.94   \n",
       "1        Aaron Gordon  2017  ORL  80  29  51  28.7     11234.2         2.13   \n",
       "2        Aaron Gordon  2018  ORL  58  19  39  32.9     12792.0         2.42   \n",
       "3        Aaron Gordon  2019  ORL  76  38  38  33.8     13509.5         2.56   \n",
       "4        Aaron Gordon  2020  ORL  58  28  30  33.0     12995.1         2.46   \n",
       "...               ...   ...  ...  ..  ..  ..   ...         ...          ...   \n",
       "1710     Zhaire Smith  2019  PHI   6   2   4  18.4      7941.8         1.50   \n",
       "1711     Zhaire Smith  2020  PHI   7   3   4   4.6      1945.7         0.37   \n",
       "1712          Zhou Qi  2018  HOU  18  14   4   6.9      2525.6         0.48   \n",
       "1713          Zhou Qi  2019  HOU   1   0   1   0.9       385.0         0.07   \n",
       "1714  Zion Williamson  2020  NOP  18  10   8  29.4     12005.2         2.27   \n",
       "\n",
       "      DIST.†MILES†OFF  DIST.†MILES†DEF  AVG†SPEED  AVG†SPEED†OFF  \\\n",
       "0                0.51             0.43       4.14           4.35   \n",
       "1                1.14             0.99       4.45           4.85   \n",
       "2                1.35             1.07       4.46           5.05   \n",
       "3                1.44             1.12       4.28           4.75   \n",
       "4                1.36             1.10       4.20           4.65   \n",
       "...               ...              ...        ...            ...   \n",
       "1710             0.84             0.67       4.58           5.06   \n",
       "1711             0.19             0.18       4.27           4.20   \n",
       "1712             0.26             0.22       4.10           4.20   \n",
       "1713             0.03             0.04       5.01           0.00   \n",
       "1714             1.21             1.07       4.36           4.85   \n",
       "\n",
       "      AVG†SPEED†DEF   Rk Salary Current Salary Next  contract_year  \n",
       "0              3.92  274       $2700000         NaN              1  \n",
       "1              4.06  210       $4351320    $5504420              0  \n",
       "2              3.88  188       $5504420         NaN              1  \n",
       "3              3.79   40      $21590909   $19863636              0  \n",
       "4              3.76   53      $19863636   $18136364              0  \n",
       "...             ...  ...            ...         ...            ...  \n",
       "1710           4.09  285       $2611800    $3058800              0  \n",
       "1711           4.34  264       $3058800    $3204600              0  \n",
       "1712           3.99  455        $815615    $1378242              0  \n",
       "1713           0.00  437       $1378242    $1618520              0  \n",
       "1714           3.91  127       $9757440   $10245480              0  \n",
       "\n",
       "[1715 rows x 18 columns]"
      ]
     },
     "execution_count": 4,
     "metadata": {},
     "output_type": "execute_result"
    }
   ],
   "source": [
    "from warnings import simplefilter\n",
    "simplefilter(action='ignore', category=FutureWarning)\n",
    "playerdata"
   ]
  },
  {
   "cell_type": "code",
   "execution_count": 24,
   "id": "32c33579",
   "metadata": {},
   "outputs": [],
   "source": [
    "#sets playerdata to the modelvaraibles selected\n",
    "playerdata = playerdata[modelvariables]"
   ]
  },
  {
   "cell_type": "code",
   "execution_count": 25,
   "id": "16d4a5bd",
   "metadata": {},
   "outputs": [],
   "source": [
    "#If error appears here, run cell above again to work\n",
    "#This strips the '$' from salary \n",
    "playerdata['Salary Current'] = playerdata['Salary Current'].apply(lambda x: x.strip('$'))"
   ]
  },
  {
   "cell_type": "code",
   "execution_count": 26,
   "id": "2f704901",
   "metadata": {},
   "outputs": [],
   "source": [
    "#sets salary current to numeric\n",
    "playerdata[\"Salary Current\"] = pd.to_numeric(playerdata[\"Salary Current\"])"
   ]
  },
  {
   "cell_type": "code",
   "execution_count": 10,
   "id": "8540a6cb",
   "metadata": {},
   "outputs": [
    {
     "data": {
      "text/html": [
       "<div>\n",
       "<style scoped>\n",
       "    .dataframe tbody tr th:only-of-type {\n",
       "        vertical-align: middle;\n",
       "    }\n",
       "\n",
       "    .dataframe tbody tr th {\n",
       "        vertical-align: top;\n",
       "    }\n",
       "\n",
       "    .dataframe thead th {\n",
       "        text-align: right;\n",
       "    }\n",
       "</style>\n",
       "<table border=\"1\" class=\"dataframe\">\n",
       "  <thead>\n",
       "    <tr style=\"text-align: right;\">\n",
       "      <th></th>\n",
       "      <th>GP</th>\n",
       "      <th>L</th>\n",
       "      <th>MIN</th>\n",
       "      <th>DIST.†MILES†OFF</th>\n",
       "      <th>DIST.†MILES†DEF</th>\n",
       "      <th>AVG†SPEED</th>\n",
       "      <th>Rk</th>\n",
       "      <th>Salary Current</th>\n",
       "      <th>W</th>\n",
       "      <th>contract_year</th>\n",
       "    </tr>\n",
       "  </thead>\n",
       "  <tbody>\n",
       "    <tr>\n",
       "      <th>2</th>\n",
       "      <td>58</td>\n",
       "      <td>39</td>\n",
       "      <td>32.9</td>\n",
       "      <td>1.35</td>\n",
       "      <td>1.07</td>\n",
       "      <td>4.46</td>\n",
       "      <td>188</td>\n",
       "      <td>5504420</td>\n",
       "      <td>19</td>\n",
       "      <td>1</td>\n",
       "    </tr>\n",
       "    <tr>\n",
       "      <th>3</th>\n",
       "      <td>76</td>\n",
       "      <td>38</td>\n",
       "      <td>33.8</td>\n",
       "      <td>1.44</td>\n",
       "      <td>1.12</td>\n",
       "      <td>4.28</td>\n",
       "      <td>40</td>\n",
       "      <td>21590909</td>\n",
       "      <td>38</td>\n",
       "      <td>0</td>\n",
       "    </tr>\n",
       "    <tr>\n",
       "      <th>4</th>\n",
       "      <td>58</td>\n",
       "      <td>30</td>\n",
       "      <td>33.0</td>\n",
       "      <td>1.36</td>\n",
       "      <td>1.10</td>\n",
       "      <td>4.20</td>\n",
       "      <td>53</td>\n",
       "      <td>19863636</td>\n",
       "      <td>28</td>\n",
       "      <td>0</td>\n",
       "    </tr>\n",
       "    <tr>\n",
       "      <th>13</th>\n",
       "      <td>68</td>\n",
       "      <td>22</td>\n",
       "      <td>32.3</td>\n",
       "      <td>1.12</td>\n",
       "      <td>1.02</td>\n",
       "      <td>3.99</td>\n",
       "      <td>7</td>\n",
       "      <td>26540100</td>\n",
       "      <td>46</td>\n",
       "      <td>0</td>\n",
       "    </tr>\n",
       "    <tr>\n",
       "      <th>14</th>\n",
       "      <td>69</td>\n",
       "      <td>25</td>\n",
       "      <td>31.5</td>\n",
       "      <td>1.13</td>\n",
       "      <td>0.99</td>\n",
       "      <td>4.03</td>\n",
       "      <td>11</td>\n",
       "      <td>27734405</td>\n",
       "      <td>44</td>\n",
       "      <td>0</td>\n",
       "    </tr>\n",
       "    <tr>\n",
       "      <th>...</th>\n",
       "      <td>...</td>\n",
       "      <td>...</td>\n",
       "      <td>...</td>\n",
       "      <td>...</td>\n",
       "      <td>...</td>\n",
       "      <td>...</td>\n",
       "      <td>...</td>\n",
       "      <td>...</td>\n",
       "      <td>...</td>\n",
       "      <td>...</td>\n",
       "    </tr>\n",
       "    <tr>\n",
       "      <th>1703</th>\n",
       "      <td>62</td>\n",
       "      <td>46</td>\n",
       "      <td>34.4</td>\n",
       "      <td>1.48</td>\n",
       "      <td>1.22</td>\n",
       "      <td>4.43</td>\n",
       "      <td>47</td>\n",
       "      <td>19500000</td>\n",
       "      <td>16</td>\n",
       "      <td>0</td>\n",
       "    </tr>\n",
       "    <tr>\n",
       "      <th>1704</th>\n",
       "      <td>60</td>\n",
       "      <td>40</td>\n",
       "      <td>34.8</td>\n",
       "      <td>1.45</td>\n",
       "      <td>1.24</td>\n",
       "      <td>4.34</td>\n",
       "      <td>54</td>\n",
       "      <td>19500000</td>\n",
       "      <td>20</td>\n",
       "      <td>0</td>\n",
       "    </tr>\n",
       "    <tr>\n",
       "      <th>1705</th>\n",
       "      <td>73</td>\n",
       "      <td>35</td>\n",
       "      <td>24.5</td>\n",
       "      <td>0.86</td>\n",
       "      <td>0.74</td>\n",
       "      <td>3.94</td>\n",
       "      <td>104</td>\n",
       "      <td>10361445</td>\n",
       "      <td>38</td>\n",
       "      <td>1</td>\n",
       "    </tr>\n",
       "    <tr>\n",
       "      <th>1706</th>\n",
       "      <td>59</td>\n",
       "      <td>41</td>\n",
       "      <td>25.6</td>\n",
       "      <td>0.90</td>\n",
       "      <td>0.78</td>\n",
       "      <td>3.96</td>\n",
       "      <td>95</td>\n",
       "      <td>12307692</td>\n",
       "      <td>18</td>\n",
       "      <td>0</td>\n",
       "    </tr>\n",
       "    <tr>\n",
       "      <th>1714</th>\n",
       "      <td>18</td>\n",
       "      <td>8</td>\n",
       "      <td>29.4</td>\n",
       "      <td>1.21</td>\n",
       "      <td>1.07</td>\n",
       "      <td>4.36</td>\n",
       "      <td>127</td>\n",
       "      <td>9757440</td>\n",
       "      <td>10</td>\n",
       "      <td>0</td>\n",
       "    </tr>\n",
       "  </tbody>\n",
       "</table>\n",
       "<p>721 rows × 10 columns</p>\n",
       "</div>"
      ],
      "text/plain": [
       "      GP   L   MIN  DIST.†MILES†OFF  DIST.†MILES†DEF  AVG†SPEED   Rk  \\\n",
       "2     58  39  32.9             1.35             1.07       4.46  188   \n",
       "3     76  38  33.8             1.44             1.12       4.28   40   \n",
       "4     58  30  33.0             1.36             1.10       4.20   53   \n",
       "13    68  22  32.3             1.12             1.02       3.99    7   \n",
       "14    69  25  31.5             1.13             0.99       4.03   11   \n",
       "...   ..  ..   ...              ...              ...        ...  ...   \n",
       "1703  62  46  34.4             1.48             1.22       4.43   47   \n",
       "1704  60  40  34.8             1.45             1.24       4.34   54   \n",
       "1705  73  35  24.5             0.86             0.74       3.94  104   \n",
       "1706  59  41  25.6             0.90             0.78       3.96   95   \n",
       "1714  18   8  29.4             1.21             1.07       4.36  127   \n",
       "\n",
       "      Salary Current   W  contract_year  \n",
       "2            5504420  19              1  \n",
       "3           21590909  38              0  \n",
       "4           19863636  28              0  \n",
       "13          26540100  46              0  \n",
       "14          27734405  44              0  \n",
       "...              ...  ..            ...  \n",
       "1703        19500000  16              0  \n",
       "1704        19500000  20              0  \n",
       "1705        10361445  38              1  \n",
       "1706        12307692  18              0  \n",
       "1714         9757440  10              0  \n",
       "\n",
       "[721 rows x 10 columns]"
      ]
     },
     "execution_count": 10,
     "metadata": {},
     "output_type": "execute_result"
    }
   ],
   "source": [
    "#Adds maxplayer option with less results and creates a new yvar 'max' for Training splits\n",
    "maxplayer = playerdata[playerdata['Salary Current'] > 5000000]\n",
    "maxplayer"
   ]
  },
  {
   "cell_type": "code",
   "execution_count": 11,
   "id": "a4d6ce4a",
   "metadata": {},
   "outputs": [
    {
     "data": {
      "text/plain": [
       "2       1\n",
       "3       0\n",
       "4       0\n",
       "13      0\n",
       "14      0\n",
       "       ..\n",
       "1703    0\n",
       "1704    0\n",
       "1705    1\n",
       "1706    0\n",
       "1714    0\n",
       "Name: contract_year, Length: 721, dtype: int64"
      ]
     },
     "execution_count": 11,
     "metadata": {},
     "output_type": "execute_result"
    }
   ],
   "source": [
    "yvarmax = maxplayer['contract_year']\n",
    "maxplayer = maxplayer.drop(columns=['contract_year'])\n",
    "yvarmax"
   ]
  },
  {
   "cell_type": "code",
   "execution_count": 33,
   "id": "437ad546",
   "metadata": {},
   "outputs": [
    {
     "data": {
      "text/html": [
       "<div>\n",
       "<style scoped>\n",
       "    .dataframe tbody tr th:only-of-type {\n",
       "        vertical-align: middle;\n",
       "    }\n",
       "\n",
       "    .dataframe tbody tr th {\n",
       "        vertical-align: top;\n",
       "    }\n",
       "\n",
       "    .dataframe thead th {\n",
       "        text-align: right;\n",
       "    }\n",
       "</style>\n",
       "<table border=\"1\" class=\"dataframe\">\n",
       "  <thead>\n",
       "    <tr style=\"text-align: right;\">\n",
       "      <th></th>\n",
       "      <th>GP</th>\n",
       "      <th>L</th>\n",
       "      <th>MIN</th>\n",
       "      <th>DIST.†MILES†OFF</th>\n",
       "      <th>DIST.†MILES†DEF</th>\n",
       "      <th>AVG†SPEED</th>\n",
       "      <th>Rk</th>\n",
       "      <th>Salary Current</th>\n",
       "      <th>W</th>\n",
       "      <th>contract_year</th>\n",
       "    </tr>\n",
       "  </thead>\n",
       "  <tbody>\n",
       "    <tr>\n",
       "      <th>0</th>\n",
       "      <td>0.780488</td>\n",
       "      <td>0.444444</td>\n",
       "      <td>0.359788</td>\n",
       "      <td>0.51</td>\n",
       "      <td>0.43</td>\n",
       "      <td>0.748644</td>\n",
       "      <td>0.494585</td>\n",
       "      <td>0.067111</td>\n",
       "      <td>0.545455</td>\n",
       "      <td>1</td>\n",
       "    </tr>\n",
       "    <tr>\n",
       "      <th>1</th>\n",
       "      <td>0.975610</td>\n",
       "      <td>0.809524</td>\n",
       "      <td>0.759259</td>\n",
       "      <td>1.14</td>\n",
       "      <td>0.99</td>\n",
       "      <td>0.804702</td>\n",
       "      <td>0.379061</td>\n",
       "      <td>0.108156</td>\n",
       "      <td>0.439394</td>\n",
       "      <td>0</td>\n",
       "    </tr>\n",
       "    <tr>\n",
       "      <th>2</th>\n",
       "      <td>0.707317</td>\n",
       "      <td>0.619048</td>\n",
       "      <td>0.870370</td>\n",
       "      <td>1.35</td>\n",
       "      <td>1.07</td>\n",
       "      <td>0.806510</td>\n",
       "      <td>0.339350</td>\n",
       "      <td>0.136818</td>\n",
       "      <td>0.287879</td>\n",
       "      <td>1</td>\n",
       "    </tr>\n",
       "    <tr>\n",
       "      <th>3</th>\n",
       "      <td>0.926829</td>\n",
       "      <td>0.603175</td>\n",
       "      <td>0.894180</td>\n",
       "      <td>1.44</td>\n",
       "      <td>1.12</td>\n",
       "      <td>0.773960</td>\n",
       "      <td>0.072202</td>\n",
       "      <td>0.536663</td>\n",
       "      <td>0.575758</td>\n",
       "      <td>0</td>\n",
       "    </tr>\n",
       "    <tr>\n",
       "      <th>4</th>\n",
       "      <td>0.707317</td>\n",
       "      <td>0.476190</td>\n",
       "      <td>0.873016</td>\n",
       "      <td>1.36</td>\n",
       "      <td>1.10</td>\n",
       "      <td>0.759494</td>\n",
       "      <td>0.095668</td>\n",
       "      <td>0.493730</td>\n",
       "      <td>0.424242</td>\n",
       "      <td>0</td>\n",
       "    </tr>\n",
       "    <tr>\n",
       "      <th>...</th>\n",
       "      <td>...</td>\n",
       "      <td>...</td>\n",
       "      <td>...</td>\n",
       "      <td>...</td>\n",
       "      <td>...</td>\n",
       "      <td>...</td>\n",
       "      <td>...</td>\n",
       "      <td>...</td>\n",
       "      <td>...</td>\n",
       "      <td>...</td>\n",
       "    </tr>\n",
       "    <tr>\n",
       "      <th>1710</th>\n",
       "      <td>0.073171</td>\n",
       "      <td>0.063492</td>\n",
       "      <td>0.486772</td>\n",
       "      <td>0.84</td>\n",
       "      <td>0.67</td>\n",
       "      <td>0.828210</td>\n",
       "      <td>0.514440</td>\n",
       "      <td>0.064919</td>\n",
       "      <td>0.030303</td>\n",
       "      <td>0</td>\n",
       "    </tr>\n",
       "    <tr>\n",
       "      <th>1711</th>\n",
       "      <td>0.085366</td>\n",
       "      <td>0.063492</td>\n",
       "      <td>0.121693</td>\n",
       "      <td>0.19</td>\n",
       "      <td>0.18</td>\n",
       "      <td>0.772152</td>\n",
       "      <td>0.476534</td>\n",
       "      <td>0.076029</td>\n",
       "      <td>0.045455</td>\n",
       "      <td>0</td>\n",
       "    </tr>\n",
       "    <tr>\n",
       "      <th>1712</th>\n",
       "      <td>0.219512</td>\n",
       "      <td>0.063492</td>\n",
       "      <td>0.182540</td>\n",
       "      <td>0.26</td>\n",
       "      <td>0.22</td>\n",
       "      <td>0.741410</td>\n",
       "      <td>0.821300</td>\n",
       "      <td>0.020273</td>\n",
       "      <td>0.212121</td>\n",
       "      <td>0</td>\n",
       "    </tr>\n",
       "    <tr>\n",
       "      <th>1713</th>\n",
       "      <td>0.012195</td>\n",
       "      <td>0.015873</td>\n",
       "      <td>0.023810</td>\n",
       "      <td>0.03</td>\n",
       "      <td>0.04</td>\n",
       "      <td>0.905967</td>\n",
       "      <td>0.788809</td>\n",
       "      <td>0.034258</td>\n",
       "      <td>0.000000</td>\n",
       "      <td>0</td>\n",
       "    </tr>\n",
       "    <tr>\n",
       "      <th>1714</th>\n",
       "      <td>0.219512</td>\n",
       "      <td>0.126984</td>\n",
       "      <td>0.777778</td>\n",
       "      <td>1.21</td>\n",
       "      <td>1.07</td>\n",
       "      <td>0.788427</td>\n",
       "      <td>0.229242</td>\n",
       "      <td>0.242531</td>\n",
       "      <td>0.151515</td>\n",
       "      <td>0</td>\n",
       "    </tr>\n",
       "  </tbody>\n",
       "</table>\n",
       "<p>1715 rows × 10 columns</p>\n",
       "</div>"
      ],
      "text/plain": [
       "            GP         L       MIN  DIST.†MILES†OFF  DIST.†MILES†DEF  \\\n",
       "0     0.780488  0.444444  0.359788             0.51             0.43   \n",
       "1     0.975610  0.809524  0.759259             1.14             0.99   \n",
       "2     0.707317  0.619048  0.870370             1.35             1.07   \n",
       "3     0.926829  0.603175  0.894180             1.44             1.12   \n",
       "4     0.707317  0.476190  0.873016             1.36             1.10   \n",
       "...        ...       ...       ...              ...              ...   \n",
       "1710  0.073171  0.063492  0.486772             0.84             0.67   \n",
       "1711  0.085366  0.063492  0.121693             0.19             0.18   \n",
       "1712  0.219512  0.063492  0.182540             0.26             0.22   \n",
       "1713  0.012195  0.015873  0.023810             0.03             0.04   \n",
       "1714  0.219512  0.126984  0.777778             1.21             1.07   \n",
       "\n",
       "      AVG†SPEED        Rk  Salary Current         W  contract_year  \n",
       "0      0.748644  0.494585        0.067111  0.545455              1  \n",
       "1      0.804702  0.379061        0.108156  0.439394              0  \n",
       "2      0.806510  0.339350        0.136818  0.287879              1  \n",
       "3      0.773960  0.072202        0.536663  0.575758              0  \n",
       "4      0.759494  0.095668        0.493730  0.424242              0  \n",
       "...         ...       ...             ...       ...            ...  \n",
       "1710   0.828210  0.514440        0.064919  0.030303              0  \n",
       "1711   0.772152  0.476534        0.076029  0.045455              0  \n",
       "1712   0.741410  0.821300        0.020273  0.212121              0  \n",
       "1713   0.905967  0.788809        0.034258  0.000000              0  \n",
       "1714   0.788427  0.229242        0.242531  0.151515              0  \n",
       "\n",
       "[1715 rows x 10 columns]"
      ]
     },
     "execution_count": 33,
     "metadata": {},
     "output_type": "execute_result"
    }
   ],
   "source": [
    "#normalizes all data\n",
    "columns = ('Rk','GP','W','MIN','L','AVG†SPEED','Salary Current')\n",
    "for column in columns:\n",
    "    playerdata[column] = playerdata[column] /playerdata[column].abs().max()\n",
    "playerdata\n",
    "\n",
    "#drops contract 'year from model variables to ensure no repition'\n",
    "playerdata = playerdata.drop(columns=['contract_year'])\n",
    "#splits contract year into XY and then divides using 80/20 splits\n",
    "X = playerdata.values\n",
    "Y = yvar.values\n",
    "from sklearn import model_selection\n",
    "from sklearn import linear_model\n",
    "from sklearn.metrics import mean_squared_error, r2_score\n",
    "seed = 7\n",
    "X_train, X_validation, Y_train, Y_validation = model_selection.train_test_split(X, Y, \n",
    "                                                                                test_size=0.2, \n",
    "                                                                                random_state=seed)\n"
   ]
  },
  {
   "cell_type": "code",
   "execution_count": 27,
   "id": "63ec6025",
   "metadata": {},
   "outputs": [],
   "source": [
    "from sklearn.model_selection import train_test_split\n",
    "#imports another train test split for the purpose of Speedml\n",
    "train, test = train_test_split(mldata, test_size=0.2)\n",
    "train.to_csv('./Training Data.csv')\n",
    "test.to_csv('./Testing Data.csv')"
   ]
  },
  {
   "cell_type": "code",
   "execution_count": 14,
   "id": "b6f876f4",
   "metadata": {},
   "outputs": [],
   "source": [
    "#exports and recreates these new csv with max for speedml\n",
    "trainmax, testmax = train_test_split(maxplayer, test_size=0.2)\n",
    "trainmax.to_csv('./Training Datamax.csv')\n",
    "testmax.to_csv('./Testing Datamax.csv')"
   ]
  },
  {
   "cell_type": "code",
   "execution_count": 28,
   "id": "8300d9f2",
   "metadata": {},
   "outputs": [
    {
     "data": {
      "text/plain": [
       "'Dropped 1 features with 18 features available.'"
      ]
     },
     "execution_count": 28,
     "metadata": {},
     "output_type": "execute_result"
    }
   ],
   "source": [
    "#sets sml as the predictor model and drops the automatically created \"unnamed:0 column\"\n",
    "sml = Speedml('Training Data.csv', 'Testing Data.csv',target='contract_year')\n",
    "sml.feature.drop(['Unnamed: 0'])"
   ]
  },
  {
   "cell_type": "code",
   "execution_count": 16,
   "id": "73b45baa",
   "metadata": {},
   "outputs": [
    {
     "data": {
      "text/plain": [
       "'Dropped 1 features with 9 features available.'"
      ]
     },
     "execution_count": 16,
     "metadata": {},
     "output_type": "execute_result"
    }
   ],
   "source": [
    "#uses the same but with 'max csv'\n",
    "smlmax = Speedml('Training Datamax.csv', 'Testing Datamax.csv',target='contract_year')\n",
    "smlmax.feature.drop(['Unnamed: 0'])"
   ]
  },
  {
   "cell_type": "code",
   "execution_count": 29,
   "id": "563498c8",
   "metadata": {},
   "outputs": [
    {
     "data": {
      "image/png": "[encoded data removed]",
      "text/plain": [
       "<Figure size 504x504 with 2 Axes>"
      ]
     },
     "metadata": {
      "needs_background": "light"
     },
     "output_type": "display_data"
    }
   ],
   "source": [
    "#heatmap\n",
    "sml.plot.correlate()"
   ]
  },
  {
   "cell_type": "code",
   "execution_count": 30,
   "id": "4fe540bb",
   "metadata": {},
   "outputs": [
    {
     "data": {
      "text/plain": [
       "<Figure size 432x288 with 0 Axes>"
      ]
     },
     "metadata": {},
     "output_type": "display_data"
    },
    {
     "data": {
      "image/png": "[encoded data removed]",
      "text/plain": [
       "<Figure size 1108.8x1108.8 with 16 Axes>"
      ]
     },
     "metadata": {
      "needs_background": "light"
     },
     "output_type": "display_data"
    }
   ],
   "source": [
    "#shows plot distribution of data\n",
    "sml.plot.distribute()"
   ]
  },
  {
   "cell_type": "code",
   "execution_count": 19,
   "id": "9cdf1531",
   "metadata": {},
   "outputs": [
    {
     "data": {
      "image/png": "[encoded data removed]",
      "text/plain": [
       "<Figure size 324x324 with 2 Axes>"
      ]
     },
     "metadata": {
      "needs_background": "light"
     },
     "output_type": "display_data"
    }
   ],
   "source": [
    "#shows only the 'max' or players with a salary above 5,000,000 to test for further results with heatmap\n",
    "smlmax.plot.correlate()"
   ]
  },
  {
   "cell_type": "code",
   "execution_count": 31,
   "id": "768c7995",
   "metadata": {},
   "outputs": [
    {
     "data": {
      "text/plain": [
       "'Imputed 449 empty values to 0.'"
      ]
     },
     "execution_count": 31,
     "metadata": {},
     "output_type": "execute_result"
    },
    {
     "data": {
      "image/png": "[encoded data removed]",
      "text/plain": [
       "<Figure size 648x374.4 with 1 Axes>"
      ]
     },
     "metadata": {
      "needs_background": "light"
     },
     "output_type": "display_data"
    }
   ],
   "source": [
    "#shows feature importance\n",
    "sml.feature.impute()\n",
    "sml.plot.importance()"
   ]
  },
  {
   "cell_type": "code",
   "execution_count": 32,
   "id": "69fac131",
   "metadata": {},
   "outputs": [
    {
     "data": {
      "text/plain": [
       "'Imputed 0 empty values to 0.'"
      ]
     },
     "execution_count": 32,
     "metadata": {},
     "output_type": "execute_result"
    },
    {
     "data": {
      "image/png": "[encoded data removed]",
      "text/plain": [
       "<Figure size 648x374.4 with 1 Axes>"
      ]
     },
     "metadata": {
      "needs_background": "light"
     },
     "output_type": "display_data"
    }
   ],
   "source": [
    "smlmax.feature.impute()\n",
    "smlmax.plot.importance()"
   ]
  },
  {
   "cell_type": "code",
   "execution_count": 34,
   "id": "e7d3de3b",
   "metadata": {},
   "outputs": [
    {
     "name": "stdout",
     "output_type": "stream",
     "text": [
      "LR: 0.511627 (0.104520)\n",
      "LDA: 0.617072 (0.076384)\n",
      "KNN: 0.532534 (0.089106)\n",
      "CART: 0.434171 (0.065858)\n",
      "NB: 0.447555 (0.047700)\n",
      "SVM: 0.794762 (0.235553)\n"
     ]
    }
   ],
   "source": [
    "#runs series of models to see what models have greater fits, using 'accuracy'\n",
    "models = []\n",
    "models.append(('LR', LogisticRegression()))\n",
    "models.append(('LDA', LinearDiscriminantAnalysis()))\n",
    "models.append(('KNN', KNeighborsClassifier()))\n",
    "models.append(('CART', DecisionTreeClassifier()))\n",
    "models.append(('NB', GaussianNB()))\n",
    "models.append(('SVM', SVC()))\n",
    "\n",
    "#By using a more flexible approach, I was able to quickly run my data through several different algorithms\n",
    "#My conclusion is in the cell below. \n",
    "results = []\n",
    "names = []\n",
    "for name, model in models:\n",
    "    kfold= model_selection.KFold(n_splits=10)\n",
    "    cv_results= model_selection.cross_val_score(model, X_train, Y_train, cv=kfold, scoring='precision')\n",
    "    results.append(cv_results)\n",
    "    names.append(name)\n",
    "    msg= \"%s: %f (%f)\" % (name, cv_results.mean(), cv_results.std())\n",
    "    \n",
    "    print(msg)\n",
    "#LDA shows the highest, with SVM a very close second. "
   ]
  },
  {
   "cell_type": "code",
   "execution_count": 35,
   "id": "0355b0cc",
   "metadata": {},
   "outputs": [
    {
     "data": {
      "text/plain": [
       "SVC(random_state=0)"
      ]
     },
     "execution_count": 35,
     "metadata": {},
     "output_type": "execute_result"
    },
    {
     "data": {
      "text/plain": [
       "SVC(random_state=0)"
      ]
     },
     "execution_count": 35,
     "metadata": {},
     "output_type": "execute_result"
    },
    {
     "data": {
      "text/plain": [
       "<sklearn.metrics._plot.confusion_matrix.ConfusionMatrixDisplay at 0x7fc71004d8e0>"
      ]
     },
     "execution_count": 35,
     "metadata": {},
     "output_type": "execute_result"
    },
    {
     "data": {
      "image/png": "[encoded data removed]",
      "text/plain": [
       "<Figure size 432x288 with 2 Axes>"
      ]
     },
     "metadata": {
      "needs_background": "light"
     },
     "output_type": "display_data"
    }
   ],
   "source": [
    "#uses svc one of the top best fit models to show the success of a confusion matrix in classifying the data\n",
    "import matplotlib.pyplot as plt\n",
    "from sklearn.datasets import make_classification\n",
    "from sklearn.metrics import confusion_matrix, ConfusionMatrixDisplay\n",
    "from sklearn.model_selection import train_test_split\n",
    "from sklearn.svm import SVC\n",
    "clf = SVC(random_state=0)\n",
    "clf.fit(X_train, Y_train)\n",
    "SVC(random_state=0)\n",
    "predictions = clf.predict(X_validation)\n",
    "cm = confusion_matrix(Y_validation, predictions, labels=clf.classes_)\n",
    "disp = ConfusionMatrixDisplay(confusion_matrix=cm,\n",
    "                               display_labels=clf.classes_)\n",
    "disp.plot()\n",
    "plt.show()\n"
   ]
  },
  {
   "cell_type": "code",
   "execution_count": 36,
   "id": "c450a4df",
   "metadata": {},
   "outputs": [
    {
     "data": {
      "text/plain": [
       "LinearDiscriminantAnalysis()"
      ]
     },
     "execution_count": 36,
     "metadata": {},
     "output_type": "execute_result"
    },
    {
     "data": {
      "text/plain": [
       "SVC(random_state=0)"
      ]
     },
     "execution_count": 36,
     "metadata": {},
     "output_type": "execute_result"
    },
    {
     "data": {
      "text/plain": [
       "<sklearn.metrics._plot.confusion_matrix.ConfusionMatrixDisplay at 0x7fc7502e9d00>"
      ]
     },
     "execution_count": 36,
     "metadata": {},
     "output_type": "execute_result"
    },
    {
     "data": {
      "image/png": "[encoded data removed]",
      "text/plain": [
       "<Figure size 432x288 with 2 Axes>"
      ]
     },
     "metadata": {
      "needs_background": "light"
     },
     "output_type": "display_data"
    }
   ],
   "source": [
    "#uses LDS the top best fit models to show the success of a confusion matrix in classifying the data\n",
    "import matplotlib.pyplot as plt\n",
    "from sklearn.datasets import make_classification\n",
    "from sklearn.metrics import confusion_matrix, ConfusionMatrixDisplay\n",
    "from sklearn.model_selection import train_test_split\n",
    "from sklearn.svm import SVC\n",
    "clf = LinearDiscriminantAnalysis()\n",
    "clf.fit(X_train, Y_train)\n",
    "SVC(random_state=0)\n",
    "predictions = clf.predict(X_validation)\n",
    "cm = confusion_matrix(Y_validation, predictions, labels=clf.classes_)\n",
    "disp = ConfusionMatrixDisplay(confusion_matrix=cm,\n",
    "                               display_labels=clf.classes_)\n",
    "disp.plot()\n",
    "plt.show()"
   ]
  },
  {
   "cell_type": "code",
   "execution_count": null,
   "id": "f140e119",
   "metadata": {},
   "outputs": [],
   "source": []
  },
  {
   "cell_type": "code",
   "execution_count": null,
   "id": "160b579e",
   "metadata": {},
   "outputs": [],
   "source": []
  }
 ],
 "metadata": {
  "kernelspec": {
   "display_name": "Python 3",
   "language": "python",
   "name": "python3"
  },
  "language_info": {
   "codemirror_mode": {
    "name": "ipython",
    "version": 3
   },
   "file_extension": ".py",
   "mimetype": "text/x-python",
   "name": "python",
   "nbconvert_exporter": "python",
   "pygments_lexer": "ipython3",
   "version": "3.8.8"
  }
 },
 "nbformat": 4,
 "nbformat_minor": 5
}
